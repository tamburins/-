{
  "nbformat": 4,
  "nbformat_minor": 0,
  "metadata": {
    "colab": {
      "provenance": [],
      "authorship_tag": "ABX9TyOCbYRJ3wiz5+ySjcCGKpZC",
      "include_colab_link": true
    },
    "kernelspec": {
      "name": "python3",
      "display_name": "Python 3"
    },
    "language_info": {
      "name": "python"
    }
  },
  "cells": [
    {
      "cell_type": "markdown",
      "metadata": {
        "id": "view-in-github",
        "colab_type": "text"
      },
      "source": [
        "<a href=\"https://colab.research.google.com/github/tamburins/statisticsprogramming/blob/main/%ED%86%B5%EA%B3%84%ED%94%84%EB%A1%9C%EA%B7%B8%EB%9E%98%EB%B0%8D_HW2_%EC%A0%95%EB%AF%BC%EC%9E%AC(1848100).ipynb\" target=\"_parent\"><img src=\"https://colab.research.google.com/assets/colab-badge.svg\" alt=\"Open In Colab\"/></a>"
      ]
    },
    {
      "cell_type": "markdown",
      "source": [
        "1> (Function) Write a Python function to check whether a number is perfect or not.\n",
        "According to Wikipedia : In number theory, a perfect number is a positive integer that is equal to the sum of its proper positive divisors, that is, the sum of its positive divisors excluding the number itself (also known as its aliquot sum). Equivalently, a perfect number is a number that is half the sum of all of its positive divisors (including itself).\n",
        "Example : The first perfect number is 6, because 1, 2, and 3 are its proper positive divisors, and 1 + 2 + 3 = 6. Equivalently, the number 6 is equal to half the sum of all its positive divisors: ( 1 + 2 + 3 + 6 ) / 2 = 6. The next perfect number is 28 = 1 + 2 + 4 + 7 + 14. This is followed by the perfect numbers 496 and 8128."
      ],
      "metadata": {
        "id": "9MybMt8pTwiA"
      }
    },
    {
      "cell_type": "code",
      "execution_count": null,
      "metadata": {
        "id": "tLvCdjJbTpvV"
      },
      "outputs": [],
      "source": [
        "#1번 답\n",
        "#인수 구하는 코드\n",
        "def perfect_num(n):\n",
        "  insu_list=[]\n",
        "  for i in range(1,n):\n",
        "    if n%i==0:\n",
        "      insu_list.append(i)\n",
        "  #본인을 제외한 인수의 합과 본인이 일치하는지에 대한 여부\n",
        "  sum=0\n",
        "  for i in insu_list:\n",
        "    sum=sum+i\n",
        "  if sum==n:\n",
        "    print(\"it's perfect number\")\n",
        "  else:\n",
        "    print(\"it's not perfect number\")"
      ]
    },
    {
      "cell_type": "code",
      "source": [
        "perfect_num(135)\n",
        "perfect_num(8128)"
      ],
      "metadata": {
        "colab": {
          "base_uri": "https://localhost:8080/"
        },
        "id": "3Hy4ITNcl5rC",
        "outputId": "a0520911-cd50-4a99-fd8a-6af1a12afd8c"
      },
      "execution_count": null,
      "outputs": [
        {
          "output_type": "stream",
          "name": "stdout",
          "text": [
            "it's not perfect number\n",
            "it's perfect number\n"
          ]
        }
      ]
    },
    {
      "cell_type": "markdown",
      "source": [
        "*1번 설명 시작*\n",
        "\n",
        "perfect number란 자기 자신을 만들 수 있는 인수들, 그 중 본인을 제외한 인수들을 더했을 때 본인이 되는 숫자를 의미한다.\n",
        "def 기능을 활용하여 어떤 숫자가 주어졌을 때 그 숫자가 인수의 합으로 다시 나타낼 수 있는지에 대해 나타내고자 한다.\n",
        "\n",
        "먼저 주어진 숫자의 인수를 구한다. 어떤 수를 n이라 할 때 1부터 자기 자신을 제외한 숫자까지(n-1까지) 나머지가 0인지 대조해보면서 하나씩 인수가 맞는지 확인해보고 인수가 맞는 숫자에 대해 인수 리스트에 append를 활용하여 넣는다.\n",
        "\n",
        "초기값이 0인 sum이라는 변수에 리스트 속 숫자들을 모두 더한다. 이 때 sum이 원래의 주어진 숫자 n과 같을 경우 퍼펙트 넘버라고, 그렇지 않을 경우 퍼펙트 넘버가 아니라고 출력한다.\n",
        "\n",
        "이후 퍼펙트 넘버라는 함수에 숫자를 넣어 호출해주면 이 수가 퍼펙트 넘버인지 아닌지 그 여부를 출력한다.\n",
        "\n",
        "*1번 설명 끝*"
      ],
      "metadata": {
        "id": "OQxlb6bnk-lJ"
      }
    },
    {
      "cell_type": "markdown",
      "source": [
        "2> (Function) Write a Python function that checks whether a passed string is palindrome or not.\n",
        "Note: A palindrome is a word, phrase, or sequence that reads the same backward as forward, e.g., “madam” or “nurses run”. As shown in the case of “nurses run”, you first need to remove the space from the string."
      ],
      "metadata": {
        "id": "4ixt0Af1Tx4P"
      }
    },
    {
      "cell_type": "code",
      "source": [
        "#2번 문제 답\n",
        "def palindrum(a):\n",
        "  my_list=list(a)\n",
        "  r=0\n",
        "  for i in range(len(my_list)//2):\n",
        "    if my_list[i]!=my_list[(-1)*i-1]:\n",
        "      r=r+1\n",
        "    else:\n",
        "      pass\n",
        "  if r==0:\n",
        "    print('palindrum')\n",
        "  else:\n",
        "    print('not palindrum')  \n",
        "palindrum('nur run')"
      ],
      "metadata": {
        "id": "BT53XoYCT0Tn",
        "colab": {
          "base_uri": "https://localhost:8080/"
        },
        "outputId": "c4e02e44-7712-4c8f-c6af-ede0221fbd53"
      },
      "execution_count": null,
      "outputs": [
        {
          "output_type": "stream",
          "name": "stdout",
          "text": [
            "palindrum\n"
          ]
        }
      ]
    },
    {
      "cell_type": "markdown",
      "source": [
        "### *2번 문제 방법1 설명 시작*\n",
        "\n",
        "앞뒤가 똑같은 palindrum이 맞는지 파악하는 함수를 만들고자 한다.\n",
        "\n",
        "먼저 어떤 문자열이 주어졌을 경우 이 문자열의 문자 하나하나를 리스트로 받는 리스트를 생성한다.\n",
        "이 리스트의 첫번째 원소와 뒤에서 첫번째 원소, 두번째 원소와 뒤에서 두번쨰 원소를 비교하기 위해 이 리스트의 길이의 절반만큼 비교를 반복하는 for문에서 비교를 진행한다.\n",
        "마이너스 인덱싱을 활용하여 앞 문자와 뒤의 문자를 비교하여 다를 경우 초기값이 0인 변수 r에 1을 더하고, 아닌 경우 그냥 넘어간다.\n",
        "\n",
        "이후 비교를 모두 진행한 뒤, 한번이라도 다른 문자가 없었을 경우 초기값이 0이었던 변수 r 또한 0이기 때문에 r이 0인지 아닌지에 따라 palindrum인지 아닌지 여부를 출력한다.\n",
        "\n",
        "palindrum함수에 알아보고 싶은 문자열을 넣어 함수를 호출하면 palindrum인지 아닌지 여부를 출력한다."
      ],
      "metadata": {
        "id": "T1LApkR1ga73"
      }
    },
    {
      "cell_type": "markdown",
      "source": [
        "3> (Class) Write a Python class named Circle constructed by a radius and two methods which will compute the area and the perimeter of a circle.\n",
        "a=3.0\n",
        "cir0 = Circle(a)\n",
        "print( cir0.area(), cir0.perimeter() )\n"
      ],
      "metadata": {
        "id": "-AtMj-aIT0uq"
      }
    },
    {
      "cell_type": "code",
      "source": [
        "#방법1\n",
        "class Circle():\n",
        "    def __init__(self, r):\n",
        "        self.radius = r\n",
        "\n",
        "    def area(self):\n",
        "        return self.radius**2*3.14\n",
        "    \n",
        "    def perimeter(self):\n",
        "        return 2*self.radius*3.14\n",
        "\n",
        "a=3.0\n",
        "cir0= Circle(a)\n",
        "print(cir0.area(), cir0.perimeter())"
      ],
      "metadata": {
        "id": "e00CyNDPT2pZ",
        "colab": {
          "base_uri": "https://localhost:8080/"
        },
        "outputId": "c240f5ed-4fa8-4fa3-84b3-71dd3b859c6e"
      },
      "execution_count": null,
      "outputs": [
        {
          "output_type": "stream",
          "name": "stdout",
          "text": [
            "28.26 18.84\n"
          ]
        }
      ]
    },
    {
      "cell_type": "markdown",
      "source": [
        "###2번 방법1 설명\n",
        "\n",
        "circle이라는 class를 생성하고, 클래스 내부에서의 변수 radius를 선언한다.\n",
        "radius를 활용하여 넓이를 구할 수 있는 클래스 내장 함수 area를 통해 면적값을 반환할 수 있도록 하고, radius를 활용하여 지름을 구할 수 있는 클래스 내장 함수 perimeter를 통해 지름값을 반환할 수 있도록 한다.\n",
        "\n",
        "초기값인 a를 변수로 지정하고, 이를 circle class에 클래스의 인스턴스로 cir0를 선언한다. 이후 cir0에서 class내부의 함수인 area를 적용시킨 값을 사용하기 위하여 cir0.area, cir0에서 class내부의 함수인 perimeter를 적용시킨 값을 사용하기 위하여 cir0.perimeter를 통해 클래스 내부의 함수를 활용하여 원의 면적과 지름을 출력한다."
      ],
      "metadata": {
        "id": "8JwS4mN_hfeG"
      }
    },
    {
      "cell_type": "code",
      "source": [
        "#방법2\n",
        "def area(r):\n",
        "    return r**2*3.14\n",
        "    \n",
        "def perimeter(r):\n",
        "    return 2*r*3.14\n",
        "\n",
        "class Circle():\n",
        "    def __init__(self, r):\n",
        "      self.radius = r\n",
        "    def c_area(self):\n",
        "      c_area=area(self.radius)\n",
        "      return c_area\n",
        "    def c_perimeter(self):\n",
        "      c_perimeter=perimeter(self.radius)\n",
        "      return c_perimeter\n",
        "\n",
        "a=3.0\n",
        "cir0=Circle(a)\n",
        "print(cir0.c_area(), cir0.c_perimeter())\n"
      ],
      "metadata": {
        "colab": {
          "base_uri": "https://localhost:8080/"
        },
        "id": "iplR11Pqnwpy",
        "outputId": "71804f5e-5245-4406-940d-7e392e40fcf9"
      },
      "execution_count": null,
      "outputs": [
        {
          "output_type": "stream",
          "name": "stdout",
          "text": [
            "28.26 18.84\n"
          ]
        }
      ]
    },
    {
      "cell_type": "markdown",
      "source": [
        "### *2번 방법2 설명 시작*\n",
        "\n",
        "먼저 area를 구하는 함수와 perimeter를 구하는 함수를 만든다. 이후 class를 생성하는데, 이 class 내부에서 외부의 함수인 area와 perimeter를 호출하여 면적과 지름을 손쉽게 얻을 수 있는 함수 c_area와 c_perimeter를 만들고 각각 면적과 지름을 반환할 수 있도록 한다.\n",
        "\n",
        "위와 마찬가지로 이후 클래스의 인스턴스로 선언된 cir0에서 class내부의 함수인 c_area를 적용시킨 값을 사용하기 위하여 cir0.c_area, class를 갖는 cir0에서 class내부의 함수인 c_perimeter를 적용시킨 값을 사용하기 위하여 cir0.c_perimeter를 통해 클래스 내부의 함수를 활용하여 원의 면적과 지름을 출력한다."
      ],
      "metadata": {
        "id": "QG02t2PpiA2A"
      }
    },
    {
      "cell_type": "markdown",
      "source": [
        "\n",
        "4> (Class) Write a Python class named more_Circle inherited from Circle in Problem 3. This more_Circle class has one more member (color) and additional method which print the information of the circle.\n",
        "> a=3.0\n",
        "\n",
        "> b=“red”\n",
        "\n",
        "> cir0 = more_Circle(a, b)\n",
        "\n",
        "> cir0.get_information()\n",
        "\n",
        "Radious 3.0, color red, perimeter 9.42477796076938, area = 28.274333882308138,\n"
      ],
      "metadata": {
        "id": "zMBrWwtXT3Ob"
      }
    },
    {
      "cell_type": "code",
      "source": [
        "#4번 문제 답\n",
        "class Circle():\n",
        "    def __init__(self, r):\n",
        "        self.radius = r\n",
        "\n",
        "    def area(self):\n",
        "        return self.radius**2*3.14\n",
        "    \n",
        "    def perimeter(self):\n",
        "        return 2*self.radius*3.14\n",
        "\n",
        "class more_Circle(Circle):\n",
        "  def __init__(self, a, b):\n",
        "    self.radius = a\n",
        "    self.color = b\n",
        "  def get_circle(self):\n",
        "    self.Marea=Circle.area(self.radius)\n",
        "    self.Mperi=Circle.perimeter(self.radius)\n",
        "    return self.Marea, self.Mperi\n",
        "  def get_color(self):\n",
        "    self.Mcolor=b\n",
        "    return self.Mcolor\n",
        "  def get_information():\n",
        "    print(\"Radious\",self.radius, \", color\",self.Mcolor,\", perimeter\",self.Mperi,\", area = \",self.Marea)\n",
        "\n",
        "cir0=more_Circle(3, 'red')\n",
        "cir0.get_information()"
      ],
      "metadata": {
        "id": "lIt9NkUGT7lA",
        "colab": {
          "base_uri": "https://localhost:8080/",
          "height": 198
        },
        "outputId": "dd3b6375-49d6-42c7-88e2-e97ba3c1a319"
      },
      "execution_count": null,
      "outputs": [
        {
          "output_type": "error",
          "ename": "TypeError",
          "evalue": "ignored",
          "traceback": [
            "\u001b[0;31m---------------------------------------------------------------------------\u001b[0m",
            "\u001b[0;31mTypeError\u001b[0m                                 Traceback (most recent call last)",
            "\u001b[0;32m<ipython-input-50-7953a46d0c47>\u001b[0m in \u001b[0;36m<module>\u001b[0;34m\u001b[0m\n\u001b[1;32m     24\u001b[0m \u001b[0;34m\u001b[0m\u001b[0m\n\u001b[1;32m     25\u001b[0m \u001b[0mcir0\u001b[0m\u001b[0;34m=\u001b[0m\u001b[0mmore_Circle\u001b[0m\u001b[0;34m(\u001b[0m\u001b[0;36m3\u001b[0m\u001b[0;34m,\u001b[0m \u001b[0;34m'red'\u001b[0m\u001b[0;34m)\u001b[0m\u001b[0;34m\u001b[0m\u001b[0;34m\u001b[0m\u001b[0m\n\u001b[0;32m---> 26\u001b[0;31m \u001b[0mcir0\u001b[0m\u001b[0;34m.\u001b[0m\u001b[0mget_information\u001b[0m\u001b[0;34m(\u001b[0m\u001b[0;34m)\u001b[0m\u001b[0;34m\u001b[0m\u001b[0;34m\u001b[0m\u001b[0m\n\u001b[0m",
            "\u001b[0;31mTypeError\u001b[0m: get_information() takes 0 positional arguments but 1 was given"
          ]
        }
      ]
    },
    {
      "cell_type": "markdown",
      "source": [
        "### *4번 문제 설명 시작*\n",
        "\n",
        "more circle 클래스는 circle 클래스를 상속받는 것으로 마찬가지로 반지름 값과 색을 입력받는다. get circle 함수를 통해 앞선 클래스 circle의 함수인 면적을 구하는 함수(area)와 지름을 구하는 함수인 perimeter를 호출하여 Marea와 Mperi를 생성하고 이를 반환한다.\n",
        "입력인자로 받은 색상을 할당하는 get_color함수 또한 만들어 반환하고, 이를 출력하는 함수인 get_information을 만든다.\n",
        "\n",
        "cir0를 more_Circle이라는 클래스의 인스턴스로 선언하고, 이 클래스에 반지름과 색상을 할당한다. 이후 get_information을 통하여 이를 출력하는 함수인 클래스 내부 함수를 호출한다."
      ],
      "metadata": {
        "id": "NTrr1V-rvL2i"
      }
    },
    {
      "cell_type": "markdown",
      "source": [
        "\n",
        "5> (Class)\n",
        "You have the following class: class Calculator:\n",
        "def __init__(self):\n",
        "self.x = 0\n",
        "def add(self, val): self.x += val\n",
        "Create a class named “MaxLimitCalculator”, inherited from the class Calculator, whose member “x” starts from 0. You have “add” method but the result cannot exceed 100 working as follows:\n",
        "> cal = MaxLimitCalculator()\n",
        "> print(cal.x) 0\n",
        "> cal.add(50)\n",
        "> print(cal.x) 50\n",
        "> cal.add(60) > print(cal.x) 100\n"
      ],
      "metadata": {
        "id": "hgkDKjRUT76K"
      }
    },
    {
      "cell_type": "code",
      "source": [
        "#5번 문제 답\n",
        "class Calculator:\n",
        "  def __init__(self):\n",
        "    self.x = 0\n",
        "  def add(self, val):\n",
        "    self.x += val\n",
        "\n",
        "class MaxLimitCalculator(Calculator):\n",
        "    def add(self, val):\n",
        "        self.value += val\n",
        "        if self.value > 100:\n",
        "            self.value = 100\n",
        "\n",
        "cal = MaxLimitCalculator()\n",
        "cal.add(50)\n",
        "cal.add(60)\n",
        "print(cal.value)\n",
        "  "
      ],
      "metadata": {
        "id": "FJlJdJnZT_ho"
      },
      "execution_count": null,
      "outputs": []
    },
    {
      "cell_type": "markdown",
      "source": [
        "### *5번 설명 시작*\n",
        "\n",
        "calculator라는 class를 선언한다. 초기값이 0인 x에 대해 val을 더하는 내장함수 add를 생성한다.\n",
        "\n",
        "이후 클래스 MaxLimitCalculator를 생성하는데, 이는 기존의 클래스 Calculator로부터 inherited된 것으로 마찬가지로 add 함수를 생성하는데 이는 value에 val을 더하는 것이다. 다만 더하면서 중간에 100을 넘어갈 경우 value에 100을 대입하므로 숫자에는 더이상 변화가 없다.\n",
        "\n",
        "MaxLimitCalculator() 클래스의 인스턴스로 선언된 cal은  클래스의 내장함수이 add를 사용하여 초기값 0에 50을 더하고 60을 더한다 하지만 100이 넘어간 순간부터 value값은 100이 된다."
      ],
      "metadata": {
        "id": "cDQ3VPPsmZx8"
      }
    },
    {
      "cell_type": "markdown",
      "source": [
        "6> (Algorithm: recursion)\n",
        "Using recursive function, write a Python function to get the sum of each digit in a non-negative integer.\n",
        "> # Test Data:\n",
        "> sumDigits(345) #-> 12\n",
        "> sumDigits(45) #-> 9"
      ],
      "metadata": {
        "id": "EutLnKmGT_8K"
      }
    },
    {
      "cell_type": "code",
      "source": [
        "#6번 문제 답\n",
        "def sumDigits(n):\n",
        "  if n == 0:\n",
        "    return 0 \n",
        "  else:\n",
        "    return int(n % 10) + sumDigits(int(n / 10))\n",
        "\n",
        "print(sumDigits(1886))"
      ],
      "metadata": {
        "id": "jH8enF50UHnK",
        "colab": {
          "base_uri": "https://localhost:8080/"
        },
        "outputId": "7f3628c9-7c66-445f-c0b1-2ba6b49d940a"
      },
      "execution_count": null,
      "outputs": [
        {
          "output_type": "stream",
          "name": "stdout",
          "text": [
            "23\n"
          ]
        }
      ]
    },
    {
      "cell_type": "markdown",
      "source": [
        "### *6번 문제 설명 시작*\n",
        "\n",
        "sumDigits는 각 자리수의 숫자를 자리수에 구애받지 않고 한자리씩 끊어서 더한 값을 나타내는 함수이다.\n",
        "이를 recursion으로 만들기 위해 if문을 사용하여 마지막에 숫자가 남지 않는 경우 중단하는 return 0로 if문을, 아닐 경우 계속해서 sumDigits 함수를 반복하도록 하는 else문을 생성한다. 이 때 한 자리수씩 끊어가기 위해 sumDigits 안에는 10을 나눈 값을 계속 넣어주도록 하고, 10을 나눈 나머지(그 당시 숫자의 제일 작은 자리수)를 계속 더해주도록 한다.\n",
        "\n",
        "프린트 함수를 통해 sumDigits에 특정값을 넣은 경우 값이 무엇이 나오는지를 확인한다."
      ],
      "metadata": {
        "id": "dZVxL9Ufn_5d"
      }
    },
    {
      "cell_type": "markdown",
      "source": [
        "7> (Algorithm: recursion (Towers of Hanoi)\n",
        "Rules of the Game\n",
        "Tower of Hanoi is a mathematical puzzle where we have three rods (say rod A, rod B, and rod C) and n disks. The objective of the puzzle is to move the entire stack from rod A to another rod C, obeying the following simple rules:\n",
        "1) Only one disk can be moved at a time.\n",
        "2) Each move consists of taking the upper disk from one of the stacks and placing it on top of another stack i.e. a disk can only be moved if it is the uppermost disk on a stack.\n",
        "3) No disk may be placed on top of a smaller disk.\n",
        "Write a recursive Python function which explains how to move n disks from rod A to rod C. For example, your function print the following:\n",
        "> TowerOfHanoi(n, “A”, “B”, “C”)\n",
        "Move disk 1 from rod A to rod B Move disk 2 from rod A to rod C Move disk 1 from rod B to rod C Move disk 3 from rod A to rod B Move disk 1 from rod C to rod A Move disk 2 from rod C to rod B Move disk 1 from rod A to rod B Move disk 4 from rod A to rod C Move disk 1 from rod B to rod C Move disk 2 from rod B to rod A Move disk 1 from rod C to rod A Move disk 3 from rod B to rod C Move disk 1 from rod A to rod B Move disk 2 from rod A to rod C Move disk 1 from rod B to rod C\n",
        "Hint: There are thousands of articles explaining how to solve the Towers of Hanoi using recursion function."
      ],
      "metadata": {
        "id": "SrLSynSjUG2V"
      }
    },
    {
      "cell_type": "code",
      "source": [
        "#7번 문제 답\n",
        "def TowerOfHanoi(n , source, destination, auxiliary):\n",
        "    if n==1:\n",
        "        print (\"Move disk 1 from source\",source,\"to destination\",destination)\n",
        "        return\n",
        "    TowerOfHanoi(n-1, source, auxiliary, destination)\n",
        "    print (\"Move disk\",n,\"from source\",source,\"to destination\",destination)\n",
        "    TowerOfHanoi(n-1, auxiliary, destination, source)\n",
        "         \n",
        "n = 4\n",
        "TowerOfHanoi(n,'A','B','C')"
      ],
      "metadata": {
        "id": "Wmpl0MkaUJK5",
        "colab": {
          "base_uri": "https://localhost:8080/"
        },
        "outputId": "04f4eadb-4011-4db6-d36e-5a7cc1413584"
      },
      "execution_count": null,
      "outputs": [
        {
          "output_type": "stream",
          "name": "stdout",
          "text": [
            "Move disk 1 from source A to destination C\n",
            "Move disk 2 from source A to destination B\n",
            "Move disk 1 from source C to destination B\n",
            "Move disk 3 from source A to destination C\n",
            "Move disk 1 from source B to destination A\n",
            "Move disk 2 from source B to destination C\n",
            "Move disk 1 from source A to destination C\n",
            "Move disk 4 from source A to destination B\n",
            "Move disk 1 from source C to destination B\n",
            "Move disk 2 from source C to destination A\n",
            "Move disk 1 from source B to destination A\n",
            "Move disk 3 from source C to destination B\n",
            "Move disk 1 from source A to destination C\n",
            "Move disk 2 from source A to destination B\n",
            "Move disk 1 from source C to destination B\n"
          ]
        }
      ]
    },
    {
      "cell_type": "markdown",
      "source": [
        "### *7번 문제 설명 시작*\n",
        "\n",
        "하노이의 타워는 3개의 기둥과 n개의 크기가 다른 disk가 있을 때, 크기가 다른 디스크들을 순서대로 옮겨놓는 것이다. 단 한 번에 하나씩, 쌓여있는 원반들은 아래에서 위로 갈 수록 작아지는 순서대로만 놓일 수 있다.\n",
        "\n",
        "시작 기둥을 1번, 최종 목적지를 3번 기둥이라 할 때, \n",
        "1) 맨 마지막 원반을 제외한 n-1개의 원반을 2번 기둥에 놓고, \n",
        "\n",
        "2) 맨 마지막 원반을 3번에 둔 뒤, \n",
        "\n",
        "3) n-1개의 원반을 다시 3번으로 옮겨놓는 과정이다. \n",
        "\n",
        "맨 마지막 원반을 두었으니, 이제는 n-1개중 제일 큰 원반을 최종 목적지인 3번에 옮기고, 다시 n-2개의 원반을 2번에서 3번으로 둬야 한다. 점차 옮겨야 하는 원반의 개수가 줄기 때문에 하노이 함수가 하노이 함수를 포함하는 재귀 과정이 가능하다. 또한 계속해서 이동하는 원판의 출발지, 경유지, 목적지가 변화한다. 1)에서는 n-1개의 기둥은 2번 기둥을 최종 목적지로 하기 위해 1번 기둥에서 시작하여 3번 기둥을 경유한다. 3단계에서는 n-1개의 원반이 2번 기둥을 출발지로, 1번 기둥을 경유지로, 3번 기둥을 최종 목적지로 삼는 과정을 거친다. 즉 출발지, 경유지, 목적지가 계속해서 변화하는데 이를 표현하기 위해 \n",
        " TowerOfHanoi(n-1, source, auxiliary, destination)\n",
        "가\n",
        "TowerOfHanoi(n-1, auxiliary, destination, source)\n",
        "가 된다.\n",
        "단 원반의 디스크가 1개일 경우 이러한 재귀를 반복할 필요가 없기 때문에 if문을 통해 처음부터 제약을 걸어준다."
      ],
      "metadata": {
        "id": "uJiU1-Eds4vK"
      }
    },
    {
      "cell_type": "markdown",
      "source": [],
      "metadata": {
        "id": "YrjU_eX_sTXV"
      }
    }
  ]
}